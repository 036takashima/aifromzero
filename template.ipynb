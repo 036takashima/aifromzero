{
  "nbformat": 4,
  "nbformat_minor": 0,
  "metadata": {
    "colab": {
      "name": "template.ipynb",
      "provenance": [],
      "mount_file_id": "12wl2vmXdRzh33-9_fQ0ZP4ID9us_Pf2S",
      "authorship_tag": "ABX9TyNK86W81YyvOVJyXJx0XzdR",
      "include_colab_link": true
    },
    "kernelspec": {
      "name": "python3",
      "display_name": "Python 3"
    },
    "language_info": {
      "name": "python"
    }
  },
  "cells": [
    {
      "cell_type": "markdown",
      "metadata": {
        "id": "view-in-github",
        "colab_type": "text"
      },
      "source": [
        "<a href=\"https://colab.research.google.com/github/036takashima/aifromzero/blob/master/template.ipynb\" target=\"_parent\"><img src=\"https://colab.research.google.com/assets/colab-badge.svg\" alt=\"Open In Colab\"/></a>"
      ]
    },
    {
      "cell_type": "code",
      "metadata": {
        "id": "9TpZXDLaPiOm"
      },
      "source": [
        ""
      ],
      "execution_count": null,
      "outputs": []
    },
    {
      "cell_type": "markdown",
      "metadata": {
        "id": "_vmpPN3nRn-2"
      },
      "source": [
        "# 0.前提作業\n",
        "## 0-1.Google Colabで開くファイルを決定する\n",
        "https://colab.research.google.com/github/\n",
        "へブラウザでアクセス\n",
        "\n"
      ]
    },
    {
      "cell_type": "markdown",
      "metadata": {
        "id": "xCKjcYezXG8z"
      },
      "source": [
        "## 0-2.Google ColabにGithubからファイルを取り込む\n",
        "\n",
        "対象とするリポジトリ： https://github.com/PacktPublishing/Pandas-Cookbook-Second-Edition.git\n",
        "\n",
        "取り込む先: drive/MyDrive/ColabNotebooks/PandasCookbook\n",
        "\n",
        "### 0-2-1.Googleドライブをマウントする \n",
        "\n"
      ]
    },
    {
      "cell_type": "code",
      "metadata": {
        "colab": {
          "base_uri": "https://localhost:8080/"
        },
        "id": "hR1AXrRtsfJH",
        "outputId": "5a1a1c0f-3166-4d83-d6a1-c6189c19aab6"
      },
      "source": [
        "from google.colab import drive \n",
        "drive.mount('/content/drive')"
      ],
      "execution_count": 4,
      "outputs": [
        {
          "output_type": "stream",
          "name": "stdout",
          "text": [
            "Drive already mounted at /content/drive; to attempt to forcibly remount, call drive.mount(\"/content/drive\", force_remount=True).\n"
          ]
        }
      ]
    },
    {
      "cell_type": "markdown",
      "metadata": {
        "id": "gO4YLsq2sTlS"
      },
      "source": [
        "### 0-2-2.ワークディレクトリへ移動する"
      ]
    },
    {
      "cell_type": "code",
      "metadata": {
        "colab": {
          "base_uri": "https://localhost:8080/"
        },
        "id": "P8kbX7MUXMQa",
        "outputId": "066e0cf5-3d25-424e-ab8c-2fbca23166ff"
      },
      "source": [
        "%cd \"/content/drive/MyDrive/ColabNotebooks/PandasCookbook\""
      ],
      "execution_count": 6,
      "outputs": [
        {
          "output_type": "stream",
          "name": "stdout",
          "text": [
            "/content/drive/MyDrive/ColabNotebooks/PandasCookbook\n"
          ]
        }
      ]
    },
    {
      "cell_type": "markdown",
      "metadata": {
        "id": "qLtTVycwoVjG"
      },
      "source": [
        "### 0-2-3.クローンする"
      ]
    },
    {
      "cell_type": "code",
      "metadata": {
        "id": "YhuIPl_UXoDH",
        "colab": {
          "base_uri": "https://localhost:8080/"
        },
        "outputId": "a2379a52-8adb-4afb-f72a-23cc744460c9"
      },
      "source": [
        "!git clone https://github.com/PacktPublishing/Pandas-Cookbook-Second-Edition.git"
      ],
      "execution_count": 9,
      "outputs": [
        {
          "output_type": "stream",
          "name": "stdout",
          "text": [
            "fatal: destination path 'Pandas-Cookbook-Second-Edition' already exists and is not an empty directory.\n"
          ]
        }
      ]
    },
    {
      "cell_type": "markdown",
      "metadata": {
        "id": "ppQG5lUT78us"
      },
      "source": [
        "## 0-3.Githubにコピーを置く\n"
      ]
    }
  ]
}